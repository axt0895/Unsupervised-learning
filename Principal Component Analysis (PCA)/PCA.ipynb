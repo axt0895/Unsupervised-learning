{
 "cells": [
  {
   "cell_type": "code",
   "execution_count": 1,
   "id": "3e0f1eb5",
   "metadata": {},
   "outputs": [],
   "source": [
    "%matplotlib inline\n",
    "\n",
    "import numpy as np\n",
    "import matplotlib.pyplot as plt"
   ]
  },
  {
   "cell_type": "markdown",
   "id": "d756b1af",
   "metadata": {},
   "source": [
    "## Fake datasets"
   ]
  },
  {
   "cell_type": "code",
   "execution_count": 36,
   "id": "bb8d6970",
   "metadata": {},
   "outputs": [],
   "source": [
    "X = np.zeros((100, 5))  # initialize 3D dataset\n",
    "np.random.seed(42)\n",
    "angles = (np.random.rand(100) ** 3 + 0.5) * 2 * np.pi  # uneven distribution\n",
    "X[:, 0], X[:, 1] = np.cos(angles), np.sin(angles) * 0.5  # oval\n",
    "X += 0.28 * np.random.randn(100, 5)  # add more noise\n",
    "X += [0.3, 0.2, 0, 0.2, 0.3]  # shift a bit"
   ]
  },
  {
   "cell_type": "code",
   "execution_count": 12,
   "id": "3d584c72",
   "metadata": {},
   "outputs": [
    {
     "data": {
      "text/plain": [
       "array([[-9.46002697e-01, -1.62079377e-01,  0.00000000e+00],\n",
       "       [-6.34079662e-01,  3.86633865e-01,  0.00000000e+00],\n",
       "       [ 7.79303347e-01, -3.13323432e-01,  0.00000000e+00],\n",
       "       [-2.20874743e-01, -4.87651091e-01,  0.00000000e+00],\n",
       "       [-9.99715313e-01, -1.19299363e-02,  0.00000000e+00],\n",
       "       [-9.99715577e-01, -1.19244052e-02,  0.00000000e+00],\n",
       "       [-9.99999242e-01, -6.15617014e-04,  0.00000000e+00],\n",
       "       [ 5.88505404e-01,  4.04246642e-01,  0.00000000e+00],\n",
       "       [-2.04593045e-01, -4.89423560e-01,  0.00000000e+00],\n",
       "       [ 6.12927235e-01, -3.95069679e-01,  0.00000000e+00],\n",
       "       [-9.99999998e-01, -2.74012565e-05,  0.00000000e+00],\n",
       "       [-8.52372700e-01,  2.61467388e-01,  0.00000000e+00],\n",
       "       [ 8.85669088e-01,  2.32158494e-01,  0.00000000e+00],\n",
       "       [-9.98191249e-01, -3.00592334e-02,  0.00000000e+00],\n",
       "       [-9.99286820e-01, -1.88802250e-02,  0.00000000e+00],\n",
       "       [-9.99248835e-01, -1.93763131e-02,  0.00000000e+00],\n",
       "       [-9.84386028e-01, -8.80115733e-02,  0.00000000e+00],\n",
       "       [-6.15377367e-01, -3.94116320e-01,  0.00000000e+00],\n",
       "       [-8.74512358e-01, -2.42501616e-01,  0.00000000e+00],\n",
       "       [-9.87981042e-01, -7.72875492e-02,  0.00000000e+00],\n",
       "       [-1.31217572e-01, -4.95676797e-01,  0.00000000e+00],\n",
       "       [-9.99854571e-01, -8.52695755e-03,  0.00000000e+00],\n",
       "       [-9.87753023e-01, -7.80127632e-02,  0.00000000e+00],\n",
       "       [-9.52648516e-01, -1.52036841e-01,  0.00000000e+00],\n",
       "       [-8.27565943e-01, -2.80684257e-01,  0.00000000e+00],\n",
       "       [ 9.94990034e-01, -4.99870791e-02,  0.00000000e+00],\n",
       "       [-9.98749265e-01, -2.49995327e-02,  0.00000000e+00],\n",
       "       [-6.56668014e-01, -3.77089883e-01,  0.00000000e+00],\n",
       "       [-2.61382113e-01, -4.82617704e-01,  0.00000000e+00],\n",
       "       [-9.99999802e-01, -3.14860786e-04,  0.00000000e+00],\n",
       "       [-1.61078809e-01, -4.93470774e-01,  0.00000000e+00],\n",
       "       [-9.99514701e-01, -1.55753240e-02,  0.00000000e+00],\n",
       "       [-9.99998504e-01, -8.64815499e-04,  0.00000000e+00],\n",
       "       [-6.09730335e-01,  3.96304466e-01,  0.00000000e+00],\n",
       "       [-8.10487937e-01,  2.92877664e-01,  0.00000000e+00],\n",
       "       [ 9.84240745e-01,  8.84168477e-02,  0.00000000e+00],\n",
       "       [-9.84271578e-01, -8.83309991e-02,  0.00000000e+00],\n",
       "       [-9.99982862e-01, -2.92724555e-03,  0.00000000e+00],\n",
       "       [ 4.27715170e-01, -4.51956783e-01,  0.00000000e+00],\n",
       "       [-8.59868884e-01, -2.55257470e-01,  0.00000000e+00],\n",
       "       [-9.99934792e-01, -5.70989583e-03,  0.00000000e+00],\n",
       "       [-7.22843093e-01, -3.45506101e-01,  0.00000000e+00],\n",
       "       [-9.99999967e-01, -1.27758665e-04,  0.00000000e+00],\n",
       "       [-1.18368390e-02,  4.99964971e-01,  0.00000000e+00],\n",
       "       [-9.94077778e-01, -5.43354651e-02,  0.00000000e+00],\n",
       "       [ 2.53584126e-01, -4.83656668e-01,  0.00000000e+00],\n",
       "       [-9.81947717e-01, -9.45762670e-02,  0.00000000e+00],\n",
       "       [-6.34207798e-01, -3.86581320e-01,  0.00000000e+00],\n",
       "       [-5.17628890e-01, -4.27802621e-01,  0.00000000e+00],\n",
       "       [-9.99212497e-01, -1.98392668e-02,  0.00000000e+00],\n",
       "       [-8.49343819e-01,  2.63920006e-01,  0.00000000e+00],\n",
       "       [ 9.76898661e-01, -1.06851540e-01,  0.00000000e+00],\n",
       "       [-4.77654735e-01,  4.39273819e-01,  0.00000000e+00],\n",
       "       [ 2.08920129e-01,  4.88966354e-01,  0.00000000e+00],\n",
       "       [-2.25863051e-01, -4.87079532e-01,  0.00000000e+00],\n",
       "       [-2.08670190e-01,  4.88993035e-01,  0.00000000e+00],\n",
       "       [-9.99990521e-01, -2.17704760e-03,  0.00000000e+00],\n",
       "       [-9.98881702e-01, -2.36397146e-02,  0.00000000e+00],\n",
       "       [-9.99999831e-01, -2.90637410e-04,  0.00000000e+00],\n",
       "       [-9.76687845e-01, -1.07332257e-01,  0.00000000e+00],\n",
       "       [-9.32712701e-01, -1.80310162e-01,  0.00000000e+00],\n",
       "       [-9.92130829e-01, -6.26027520e-02,  0.00000000e+00],\n",
       "       [ 9.07004037e-01,  2.10560963e-01,  0.00000000e+00],\n",
       "       [-9.59580555e-01, -1.40717056e-01,  0.00000000e+00],\n",
       "       [-9.90311473e-01, -6.94319570e-02,  0.00000000e+00],\n",
       "       [-5.36705402e-01, -4.21884851e-01,  0.00000000e+00],\n",
       "       [-9.99845392e-01, -8.79193473e-03,  0.00000000e+00],\n",
       "       [ 9.94805071e-01,  5.08990909e-02,  0.00000000e+00],\n",
       "       [-9.99996611e-01, -1.30167803e-03,  0.00000000e+00],\n",
       "       [-9.70391870e-01,  1.20767979e-01,  0.00000000e+00],\n",
       "       [ 9.69417395e-01, -1.22708918e-01,  0.00000000e+00],\n",
       "       [-9.98784837e-01, -2.46416810e-02,  0.00000000e+00],\n",
       "       [-1.00000000e+00, -5.29013450e-07,  0.00000000e+00],\n",
       "       [ 9.64948672e-01,  1.31219340e-01,  0.00000000e+00],\n",
       "       [ 6.03828268e-01, -3.98557218e-01,  0.00000000e+00],\n",
       "       [ 7.60128078e-01, -3.24886636e-01,  0.00000000e+00],\n",
       "       [ 9.66674611e-01, -1.28004097e-01,  0.00000000e+00],\n",
       "       [-9.99996747e-01, -1.27535323e-03,  0.00000000e+00],\n",
       "       [-9.58410660e-01, -1.42696362e-01,  0.00000000e+00],\n",
       "       [-9.99952233e-01, -4.88703448e-03,  0.00000000e+00],\n",
       "       [ 6.22951172e-01,  3.91130361e-01,  0.00000000e+00],\n",
       "       [-4.92925401e-02, -4.99392192e-01,  0.00000000e+00],\n",
       "       [-9.74200076e-01, -1.12843047e-01,  0.00000000e+00],\n",
       "       [-9.99998699e-01, -8.06617301e-04,  0.00000000e+00],\n",
       "       [-9.82198720e-01, -9.39224067e-02,  0.00000000e+00],\n",
       "       [-9.76750733e-01, -1.07189092e-01,  0.00000000e+00],\n",
       "       [ 7.64016619e-01, -3.22598282e-01,  0.00000000e+00],\n",
       "       [ 5.74849534e-02, -4.99173186e-01,  0.00000000e+00],\n",
       "       [ 3.18762621e-01,  4.73917290e-01,  0.00000000e+00],\n",
       "       [-7.89006957e-01, -3.07192131e-01,  0.00000000e+00],\n",
       "       [-9.99942245e-01, -5.37368700e-03,  0.00000000e+00],\n",
       "       [ 6.51073639e-01, -3.79507285e-01,  0.00000000e+00],\n",
       "       [ 9.30555578e-01, -1.83075337e-01,  0.00000000e+00],\n",
       "       [-4.43770167e-01, -4.48070318e-01,  0.00000000e+00],\n",
       "       [ 9.65799113e-01, -1.29645742e-01,  0.00000000e+00],\n",
       "       [-7.27227757e-01, -3.43198117e-01,  0.00000000e+00],\n",
       "       [-6.23590995e-01, -3.90875386e-01,  0.00000000e+00],\n",
       "       [-8.81844872e-01, -2.35769815e-01,  0.00000000e+00],\n",
       "       [-9.99999995e-01, -5.15978674e-05,  0.00000000e+00],\n",
       "       [-9.99968865e-01, -3.94553751e-03,  0.00000000e+00]])"
      ]
     },
     "execution_count": 12,
     "metadata": {},
     "output_type": "execute_result"
    }
   ],
   "source": [
    "X"
   ]
  },
  {
   "cell_type": "code",
   "execution_count": 37,
   "id": "83b4eef9",
   "metadata": {},
   "outputs": [
    {
     "data": {
      "text/plain": [
       "(100, 5)"
      ]
     },
     "execution_count": 37,
     "metadata": {},
     "output_type": "execute_result"
    }
   ],
   "source": [
    "X.shape"
   ]
  },
  {
   "cell_type": "markdown",
   "id": "940f6e5e",
   "metadata": {},
   "source": [
    "# PCA"
   ]
  },
  {
   "cell_type": "code",
   "execution_count": 40,
   "id": "3ba10086",
   "metadata": {},
   "outputs": [],
   "source": [
    "X_centered = X - X.mean(axis=0)"
   ]
  },
  {
   "cell_type": "code",
   "execution_count": 41,
   "id": "25480351",
   "metadata": {},
   "outputs": [],
   "source": [
    "U, sigma, Vt = np.linalg.svd(X_centered)"
   ]
  },
  {
   "cell_type": "code",
   "execution_count": 47,
   "id": "660925f9",
   "metadata": {},
   "outputs": [
    {
     "data": {
      "text/plain": [
       "array([[-4.53072199e-01, -1.71836815e-01, -5.64722849e-01],\n",
       "       [-7.05798496e-02,  8.34514096e-01, -2.69022768e-01],\n",
       "       [ 1.43711614e+00, -1.58990712e-01,  3.06259823e-01],\n",
       "       [ 4.60426226e-01, -5.00877946e-01, -7.77772789e-02],\n",
       "       [-4.79769879e-01,  2.50588239e-01, -1.67609776e-01],\n",
       "       [-6.92418120e-01, -5.62114235e-02, -2.54856930e-02],\n",
       "       [-3.82560858e-02,  2.77543075e-01, -1.25011498e-01],\n",
       "       [ 1.05875291e+00,  5.91013847e-01, -6.99911727e-02],\n",
       "       [ 1.95151764e-01, -6.28622899e-01,  2.77525751e-01],\n",
       "       [ 7.60822392e-01, -1.06696503e-01,  4.04245794e-01],\n",
       "       [-8.38545379e-01,  5.52381464e-02, -2.66229382e-01],\n",
       "       [-3.71430535e-01, -2.01234794e-02, -2.04400647e-01],\n",
       "       [ 1.13443881e+00,  1.97119789e-01, -2.64502233e-01],\n",
       "       [-2.14195310e-01, -3.71740769e-01,  1.29222263e-01],\n",
       "       [-9.19403012e-01, -2.14774540e-01,  3.61608274e-02],\n",
       "       [-4.79080614e-01, -1.55588675e-02,  2.03393018e-02],\n",
       "       [-6.09577169e-02,  1.62614828e-01,  1.81773601e-01],\n",
       "       [ 4.61392663e-03,  2.02219199e-03,  3.34602754e-01],\n",
       "       [-1.93378311e-01,  3.93800140e-01, -2.62951676e-01],\n",
       "       [-7.83056610e-01,  1.05133265e-02,  6.06118121e-02],\n",
       "       [ 2.42196341e-01,  6.15704941e-02,  8.20925760e-01],\n",
       "       [-8.00447428e-01, -1.90974164e-01, -7.54536912e-02],\n",
       "       [-4.05845094e-01, -5.59552864e-02, -4.14455096e-01],\n",
       "       [-3.02067532e-01, -6.30019355e-02,  1.12850164e-01],\n",
       "       [-6.22026428e-01, -1.65209220e-01, -3.17145328e-01],\n",
       "       [ 1.62456901e+00,  3.68037825e-01, -3.43462736e-01],\n",
       "       [-4.88534999e-01,  3.65984251e-01,  1.02324258e+00],\n",
       "       [ 1.06764395e-01, -2.26437981e-02, -4.60184338e-02],\n",
       "       [-6.40642493e-02, -5.77097012e-01,  2.04599722e-01],\n",
       "       [-1.09033806e+00,  1.39108810e-01, -9.11518798e-02],\n",
       "       [ 2.39107633e-01, -6.26868717e-01,  2.57848403e-01],\n",
       "       [-5.56508835e-01,  1.19448472e-01,  6.12001803e-01],\n",
       "       [-1.15740494e+00,  2.23264926e-01,  1.35590649e-01],\n",
       "       [-1.58066793e-01,  6.42356307e-01, -4.14734869e-01],\n",
       "       [-4.93768860e-01,  4.11636592e-01, -6.26829130e-02],\n",
       "       [ 1.72946267e+00,  7.38291059e-01, -3.76416171e-01],\n",
       "       [-2.17333571e-01, -5.23387521e-02,  1.57135242e-01],\n",
       "       [-6.20230236e-01, -7.35060912e-01, -7.06666331e-02],\n",
       "       [ 1.28132265e+00, -8.41962626e-01,  2.96003162e-01],\n",
       "       [-8.02980831e-01,  1.28024479e-01, -2.99539679e-01],\n",
       "       [-5.05990412e-01, -6.45333790e-02, -1.18923322e-01],\n",
       "       [-1.68066489e-01,  3.26554478e-01,  5.22958704e-01],\n",
       "       [-5.87205096e-01,  2.80425610e-01, -2.36898610e-01],\n",
       "       [ 2.92745714e-01,  5.16762363e-01,  3.97404476e-02],\n",
       "       [-3.12130028e-01,  2.61131694e-01,  7.98160441e-02],\n",
       "       [ 5.27383643e-01, -1.42130776e-01,  4.60473890e-02],\n",
       "       [-1.87961894e-01, -1.00728029e-01, -7.55346561e-02],\n",
       "       [ 8.45242922e-02,  4.78758001e-02,  3.51250589e-01],\n",
       "       [ 9.72380242e-02, -3.77764451e-01,  8.34953701e-03],\n",
       "       [-3.59961524e-01,  3.23598294e-02, -4.24745544e-01],\n",
       "       [-8.34791465e-02,  6.25359056e-01,  1.19181122e-01],\n",
       "       [ 1.12026438e+00,  7.00031823e-04,  3.91813180e-01],\n",
       "       [-2.50607994e-01,  4.93153930e-01, -2.43396213e-01],\n",
       "       [ 7.25193478e-01,  5.53475622e-01, -6.11742528e-02],\n",
       "       [-2.28518100e-01, -7.91689605e-01,  3.75426493e-02],\n",
       "       [ 6.50038609e-01,  8.28103855e-01, -3.35835804e-02],\n",
       "       [-5.50540016e-01, -3.61189449e-03, -2.37876931e-01],\n",
       "       [-1.48645331e-01,  1.28960739e-01,  1.53978803e-01],\n",
       "       [-4.85856007e-01,  9.51854702e-02, -2.39888054e-01],\n",
       "       [-4.28391787e-01,  5.77839405e-01,  4.65700539e-01],\n",
       "       [-2.14869824e-01,  1.32661689e-01, -3.51581453e-01],\n",
       "       [-7.34965300e-01, -5.66360397e-01, -1.81562601e-01],\n",
       "       [ 1.47190135e+00,  8.50063228e-01, -1.61672015e-01],\n",
       "       [-4.03534676e-01, -1.93085028e-01,  2.33053699e-01],\n",
       "       [-1.05586949e+00,  5.58568178e-01,  1.67725483e-01],\n",
       "       [-2.72138768e-01, -3.38155262e-01, -7.50079956e-02],\n",
       "       [-8.71827233e-01,  6.34037198e-02,  1.18308423e-01],\n",
       "       [ 1.10468524e+00, -1.52690683e-01,  1.21625764e-01],\n",
       "       [-1.12649564e-01,  8.27140081e-02,  7.78351690e-02],\n",
       "       [-4.21386133e-02,  1.50684206e-01,  2.12063173e-01],\n",
       "       [ 1.17581540e+00,  2.06284174e-01, -4.84007702e-01],\n",
       "       [-1.15693316e+00,  1.30476948e-01,  3.10047182e-01],\n",
       "       [-1.43876971e-01, -3.80086630e-01,  1.00617824e-01],\n",
       "       [ 1.39606094e+00, -4.48345995e-01, -1.66078257e-01],\n",
       "       [ 1.12904224e+00, -6.15550883e-01, -1.27353638e-01],\n",
       "       [ 1.45161648e+00, -4.45041038e-01, -4.19771591e-02],\n",
       "       [ 1.37260144e+00, -5.19572522e-01, -5.40666098e-02],\n",
       "       [-5.56882490e-01, -4.71498227e-02, -7.05345832e-02],\n",
       "       [-3.47168843e-01,  1.43725850e-01, -1.68951932e-01],\n",
       "       [-1.23565264e+00, -1.17512618e-01,  3.19696637e-01],\n",
       "       [ 1.24307359e+00,  7.49477083e-01,  2.50252320e-01],\n",
       "       [ 1.02091597e-01, -7.28264603e-01, -2.08393811e-01],\n",
       "       [-7.27448971e-01, -1.41962270e-01,  1.50400036e-01],\n",
       "       [-1.94365772e-01,  1.03559658e-01,  4.73822866e-01],\n",
       "       [-8.22515718e-01, -1.70509500e-01, -3.35639709e-01],\n",
       "       [-4.70296617e-03, -3.30727544e-01, -1.82764927e-01],\n",
       "       [ 1.02774322e+00, -5.00462726e-01, -8.53475350e-02],\n",
       "       [ 4.58331754e-01, -5.61570690e-01,  3.92838976e-03],\n",
       "       [ 8.74365806e-01,  4.04644066e-01,  1.81876361e-01],\n",
       "       [-1.99278330e-01, -2.44889720e-01, -2.98122759e-01],\n",
       "       [-9.95423600e-01,  8.03796067e-02, -2.90942782e-01],\n",
       "       [ 6.00613282e-01, -3.83735045e-01, -4.01794608e-02],\n",
       "       [ 1.13587894e+00, -2.13972200e-01, -3.52710501e-02],\n",
       "       [-2.66853617e-01, -1.34039842e-01, -7.64502231e-01],\n",
       "       [ 1.56475134e+00, -1.18500001e-01, -2.80155886e-02],\n",
       "       [-3.42550589e-01,  1.49027482e-01,  4.58341967e-02],\n",
       "       [-3.26805094e-01, -3.82678967e-01, -9.73834123e-02],\n",
       "       [ 1.00486203e-01,  1.59333248e-01,  3.38728147e-01],\n",
       "       [-1.16019890e+00, -2.54219858e-01, -7.89221116e-02],\n",
       "       [-1.21425375e-01,  3.40506436e-01,  1.16598807e-01]])"
      ]
     },
     "execution_count": 47,
     "metadata": {},
     "output_type": "execute_result"
    }
   ],
   "source": [
    "X_centered @ Vt[:3].T"
   ]
  },
  {
   "cell_type": "markdown",
   "id": "f9e5bc14",
   "metadata": {},
   "source": [
    "## Using Scikit-Learn"
   ]
  },
  {
   "cell_type": "code",
   "execution_count": 48,
   "id": "d8285237",
   "metadata": {},
   "outputs": [],
   "source": [
    "from sklearn.decomposition import PCA"
   ]
  },
  {
   "cell_type": "code",
   "execution_count": 49,
   "id": "d38ee569",
   "metadata": {},
   "outputs": [],
   "source": [
    "pca = PCA(n_components=3)"
   ]
  },
  {
   "cell_type": "code",
   "execution_count": 50,
   "id": "0e00d46a",
   "metadata": {},
   "outputs": [],
   "source": [
    "X_transformed = pca.fit_transform(X)"
   ]
  },
  {
   "cell_type": "code",
   "execution_count": 52,
   "id": "ee254dd0",
   "metadata": {},
   "outputs": [
    {
     "data": {
      "text/plain": [
       "(100, 3)"
      ]
     },
     "execution_count": 52,
     "metadata": {},
     "output_type": "execute_result"
    }
   ],
   "source": [
    "X_transformed.shape"
   ]
  },
  {
   "cell_type": "code",
   "execution_count": 53,
   "id": "e38f47d1",
   "metadata": {},
   "outputs": [
    {
     "data": {
      "text/plain": [
       "array([0.56495765, 0.14848473, 0.08020008])"
      ]
     },
     "execution_count": 53,
     "metadata": {},
     "output_type": "execute_result"
    }
   ],
   "source": [
    "pca.explained_variance_"
   ]
  },
  {
   "cell_type": "code",
   "execution_count": 54,
   "id": "3c6fb412",
   "metadata": {},
   "outputs": [
    {
     "data": {
      "text/plain": [
       "array([0.61595292, 0.16188754, 0.08743925])"
      ]
     },
     "execution_count": 54,
     "metadata": {},
     "output_type": "execute_result"
    }
   ],
   "source": [
    "pca.explained_variance_ratio_"
   ]
  },
  {
   "cell_type": "code",
   "execution_count": 55,
   "id": "3c617a20",
   "metadata": {},
   "outputs": [],
   "source": [
    "from sklearn.datasets import fetch_openml"
   ]
  },
  {
   "cell_type": "code",
   "execution_count": 56,
   "id": "cdf322e0",
   "metadata": {},
   "outputs": [
    {
     "name": "stderr",
     "output_type": "stream",
     "text": [
      "/Users/anilthapa/anaconda3/lib/python3.11/site-packages/sklearn/datasets/_openml.py:968: FutureWarning: The default value of `parser` will change from `'liac-arff'` to `'auto'` in 1.4. You can set `parser='auto'` to silence this warning. Therefore, an `ImportError` will be raised from 1.4 if the dataset is dense and pandas is not installed. Note that the pandas parser may return different data types. See the Notes Section in fetch_openml's API doc for details.\n",
      "  warn(\n"
     ]
    }
   ],
   "source": [
    "mnist = fetch_openml('mnist_784', as_frame=False)"
   ]
  },
  {
   "cell_type": "code",
   "execution_count": 58,
   "id": "709fe1c2",
   "metadata": {},
   "outputs": [],
   "source": [
    "X_train, y_train = mnist.data[:60000], mnist.target[:60000]"
   ]
  },
  {
   "cell_type": "code",
   "execution_count": 59,
   "id": "f10a6ebd",
   "metadata": {},
   "outputs": [],
   "source": [
    "X_test, y_test = mnist.data[60000:], mnist.target[60000:]"
   ]
  },
  {
   "cell_type": "code",
   "execution_count": 60,
   "id": "a739f477",
   "metadata": {},
   "outputs": [],
   "source": [
    "pca = PCA()"
   ]
  },
  {
   "cell_type": "code",
   "execution_count": 61,
   "id": "e434823b",
   "metadata": {},
   "outputs": [
    {
     "data": {
      "text/html": [
       "<style>#sk-container-id-1 {color: black;background-color: white;}#sk-container-id-1 pre{padding: 0;}#sk-container-id-1 div.sk-toggleable {background-color: white;}#sk-container-id-1 label.sk-toggleable__label {cursor: pointer;display: block;width: 100%;margin-bottom: 0;padding: 0.3em;box-sizing: border-box;text-align: center;}#sk-container-id-1 label.sk-toggleable__label-arrow:before {content: \"▸\";float: left;margin-right: 0.25em;color: #696969;}#sk-container-id-1 label.sk-toggleable__label-arrow:hover:before {color: black;}#sk-container-id-1 div.sk-estimator:hover label.sk-toggleable__label-arrow:before {color: black;}#sk-container-id-1 div.sk-toggleable__content {max-height: 0;max-width: 0;overflow: hidden;text-align: left;background-color: #f0f8ff;}#sk-container-id-1 div.sk-toggleable__content pre {margin: 0.2em;color: black;border-radius: 0.25em;background-color: #f0f8ff;}#sk-container-id-1 input.sk-toggleable__control:checked~div.sk-toggleable__content {max-height: 200px;max-width: 100%;overflow: auto;}#sk-container-id-1 input.sk-toggleable__control:checked~label.sk-toggleable__label-arrow:before {content: \"▾\";}#sk-container-id-1 div.sk-estimator input.sk-toggleable__control:checked~label.sk-toggleable__label {background-color: #d4ebff;}#sk-container-id-1 div.sk-label input.sk-toggleable__control:checked~label.sk-toggleable__label {background-color: #d4ebff;}#sk-container-id-1 input.sk-hidden--visually {border: 0;clip: rect(1px 1px 1px 1px);clip: rect(1px, 1px, 1px, 1px);height: 1px;margin: -1px;overflow: hidden;padding: 0;position: absolute;width: 1px;}#sk-container-id-1 div.sk-estimator {font-family: monospace;background-color: #f0f8ff;border: 1px dotted black;border-radius: 0.25em;box-sizing: border-box;margin-bottom: 0.5em;}#sk-container-id-1 div.sk-estimator:hover {background-color: #d4ebff;}#sk-container-id-1 div.sk-parallel-item::after {content: \"\";width: 100%;border-bottom: 1px solid gray;flex-grow: 1;}#sk-container-id-1 div.sk-label:hover label.sk-toggleable__label {background-color: #d4ebff;}#sk-container-id-1 div.sk-serial::before {content: \"\";position: absolute;border-left: 1px solid gray;box-sizing: border-box;top: 0;bottom: 0;left: 50%;z-index: 0;}#sk-container-id-1 div.sk-serial {display: flex;flex-direction: column;align-items: center;background-color: white;padding-right: 0.2em;padding-left: 0.2em;position: relative;}#sk-container-id-1 div.sk-item {position: relative;z-index: 1;}#sk-container-id-1 div.sk-parallel {display: flex;align-items: stretch;justify-content: center;background-color: white;position: relative;}#sk-container-id-1 div.sk-item::before, #sk-container-id-1 div.sk-parallel-item::before {content: \"\";position: absolute;border-left: 1px solid gray;box-sizing: border-box;top: 0;bottom: 0;left: 50%;z-index: -1;}#sk-container-id-1 div.sk-parallel-item {display: flex;flex-direction: column;z-index: 1;position: relative;background-color: white;}#sk-container-id-1 div.sk-parallel-item:first-child::after {align-self: flex-end;width: 50%;}#sk-container-id-1 div.sk-parallel-item:last-child::after {align-self: flex-start;width: 50%;}#sk-container-id-1 div.sk-parallel-item:only-child::after {width: 0;}#sk-container-id-1 div.sk-dashed-wrapped {border: 1px dashed gray;margin: 0 0.4em 0.5em 0.4em;box-sizing: border-box;padding-bottom: 0.4em;background-color: white;}#sk-container-id-1 div.sk-label label {font-family: monospace;font-weight: bold;display: inline-block;line-height: 1.2em;}#sk-container-id-1 div.sk-label-container {text-align: center;}#sk-container-id-1 div.sk-container {/* jupyter's `normalize.less` sets `[hidden] { display: none; }` but bootstrap.min.css set `[hidden] { display: none !important; }` so we also need the `!important` here to be able to override the default hidden behavior on the sphinx rendered scikit-learn.org. See: https://github.com/scikit-learn/scikit-learn/issues/21755 */display: inline-block !important;position: relative;}#sk-container-id-1 div.sk-text-repr-fallback {display: none;}</style><div id=\"sk-container-id-1\" class=\"sk-top-container\"><div class=\"sk-text-repr-fallback\"><pre>PCA()</pre><b>In a Jupyter environment, please rerun this cell to show the HTML representation or trust the notebook. <br />On GitHub, the HTML representation is unable to render, please try loading this page with nbviewer.org.</b></div><div class=\"sk-container\" hidden><div class=\"sk-item\"><div class=\"sk-estimator sk-toggleable\"><input class=\"sk-toggleable__control sk-hidden--visually\" id=\"sk-estimator-id-1\" type=\"checkbox\" checked><label for=\"sk-estimator-id-1\" class=\"sk-toggleable__label sk-toggleable__label-arrow\">PCA</label><div class=\"sk-toggleable__content\"><pre>PCA()</pre></div></div></div></div></div>"
      ],
      "text/plain": [
       "PCA()"
      ]
     },
     "execution_count": 61,
     "metadata": {},
     "output_type": "execute_result"
    }
   ],
   "source": [
    "pca.fit(X_train)"
   ]
  },
  {
   "cell_type": "markdown",
   "id": "820b1d38",
   "metadata": {},
   "source": [
    "# Sklearn Pipeline"
   ]
  },
  {
   "cell_type": "code",
   "execution_count": 69,
   "id": "6ce87d67",
   "metadata": {},
   "outputs": [],
   "source": [
    "from sklearn.ensemble import RandomForestClassifier\n",
    "from sklearn.model_selection import RandomizedSearchCV\n",
    "from sklearn.pipeline import make_pipeline"
   ]
  },
  {
   "cell_type": "code",
   "execution_count": 70,
   "id": "24e65e2d",
   "metadata": {},
   "outputs": [],
   "source": [
    "clf = make_pipeline(PCA(random_state=42), RandomForestClassifier(random_state=42))"
   ]
  },
  {
   "cell_type": "code",
   "execution_count": 71,
   "id": "fa3c3132",
   "metadata": {},
   "outputs": [],
   "source": [
    "param_dist = {\n",
    "    'pca__n_components': np.arange(10, 80),\n",
    "    'randomforestclassifier__n_estimators': np.arange(50, 5000)\n",
    "}"
   ]
  },
  {
   "cell_type": "code",
   "execution_count": 72,
   "id": "99c0aa0b",
   "metadata": {},
   "outputs": [],
   "source": [
    "rnd_search = RandomizedSearchCV(clf, param_distributions=param_dist, n_iter=10, cv=3, random_state=42)"
   ]
  },
  {
   "cell_type": "code",
   "execution_count": null,
   "id": "56d5dc81",
   "metadata": {},
   "outputs": [],
   "source": [
    "rnd_search.fit(X_train[:1000], y_train[:1000])"
   ]
  },
  {
   "cell_type": "code",
   "execution_count": null,
   "id": "a670fe5e",
   "metadata": {},
   "outputs": [],
   "source": [
    "print(rnd_search.best_params_)"
   ]
  },
  {
   "cell_type": "code",
   "execution_count": null,
   "id": "c00b60bf",
   "metadata": {},
   "outputs": [],
   "source": []
  }
 ],
 "metadata": {
  "kernelspec": {
   "display_name": "Python 3 (ipykernel)",
   "language": "python",
   "name": "python3"
  },
  "language_info": {
   "codemirror_mode": {
    "name": "ipython",
    "version": 3
   },
   "file_extension": ".py",
   "mimetype": "text/x-python",
   "name": "python",
   "nbconvert_exporter": "python",
   "pygments_lexer": "ipython3",
   "version": "3.11.4"
  }
 },
 "nbformat": 4,
 "nbformat_minor": 5
}
